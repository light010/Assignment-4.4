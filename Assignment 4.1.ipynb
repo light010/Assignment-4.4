{
 "cells": [
  {
   "cell_type": "markdown",
   "metadata": {},
   "source": [
    "* **Possible outcomes for each trial(qus) is =** {Right, wrong}"
   ]
  },
  {
   "cell_type": "markdown",
   "metadata": {},
   "source": [
    "* **Thus only two outcomes are possible**"
   ]
  },
  {
   "cell_type": "markdown",
   "metadata": {},
   "source": [
    "* **There are fixed multiple number of trials(20 qus) and every trial's(qus) outcome is independent to each other** "
   ]
  },
  {
   "cell_type": "markdown",
   "metadata": {},
   "source": [
    "### Thus it is a case of Binomial distribution"
   ]
  },
  {
   "cell_type": "markdown",
   "metadata": {},
   "source": [
    "   &nbsp; &nbsp; &nbsp; **X = number of wrong answers**<br>\n",
    "   \n",
    "   &nbsp; &nbsp; &nbsp; **probability of success i.e. probability of an answer to be wrong = $3/4$**<br>\n",
    "   \n",
    "   &nbsp; &nbsp; &nbsp; **no. of times the trial has been performed i.e. no. of qus = $20$**"
   ]
  },
  {
   "cell_type": "markdown",
   "metadata": {},
   "source": [
    "***\n",
    "* **probability of getting exact 5 answer wrong out of 20 is :-** \n",
    "$$p(X=5)  =  {20 \\choose 5} \\times (3/4)^5 \\times (1/4)^{15} $$\n",
    "\n",
    "here -<br>\n",
    "$3/4$ is the probability of success<br>\n",
    "$1/4$ is the probability of unsuccess<br>\n",
    "${20 \\choose 5}$ becoz there are several ways in which 5 wrong answer can be distribute over all 20 answers."
   ]
  },
  {
   "cell_type": "markdown",
   "metadata": {},
   "source": [
    "***\n",
    "## Calculating - ${20 \\choose 5}$"
   ]
  },
  {
   "cell_type": "code",
   "execution_count": 35,
   "metadata": {},
   "outputs": [
    {
     "data": {
      "text/plain": [
       "15504"
      ]
     },
     "execution_count": 35,
     "metadata": {},
     "output_type": "execute_result"
    }
   ],
   "source": [
    "# A Python program to find no. of combinations of getting  answer wrong out of 20\n",
    "from itertools import combinations\n",
    "\n",
    "sett = []\n",
    "for i in range(20):\n",
    "    sett.append(i)      #list of no. ranging from 0 t0 19\n",
    "    \n",
    "comb = list(combinations(sett, 5))     #all combinations of getting 5 no. out of 20 no.\n",
    "\n",
    "comb_len = len(comb)         #total no. of all combinations\n",
    "comb_len"
   ]
  },
  {
   "cell_type": "markdown",
   "metadata": {},
   "source": [
    "***\n",
    "## probability of getting exact 5 answer wrong out of 20 is :-"
   ]
  },
  {
   "cell_type": "markdown",
   "metadata": {},
   "source": [
    "$${20 \\choose 5} \\times (3/4)^5 \\times (1/4)^{15} $$"
   ]
  },
  {
   "cell_type": "code",
   "execution_count": 34,
   "metadata": {},
   "outputs": [
    {
     "data": {
      "text/plain": [
       "3.4264958230778575e-06"
      ]
     },
     "execution_count": 34,
     "metadata": {},
     "output_type": "execute_result"
    }
   ],
   "source": [
    "prob = comb_len * ((3/4)**5) * ((1/4)**15)\n",
    "prob"
   ]
  },
  {
   "cell_type": "code",
   "execution_count": null,
   "metadata": {
    "collapsed": true
   },
   "outputs": [],
   "source": []
  }
 ],
 "metadata": {
  "kernelspec": {
   "display_name": "Python 3",
   "language": "python",
   "name": "python3"
  },
  "language_info": {
   "codemirror_mode": {
    "name": "ipython",
    "version": 3
   },
   "file_extension": ".py",
   "mimetype": "text/x-python",
   "name": "python",
   "nbconvert_exporter": "python",
   "pygments_lexer": "ipython3",
   "version": "3.6.3"
  }
 },
 "nbformat": 4,
 "nbformat_minor": 2
}
